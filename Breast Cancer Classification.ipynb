{
 "cells": [
  {
   "cell_type": "markdown",
   "id": "5a8934fb",
   "metadata": {},
   "source": [
    "# Load Data"
   ]
  },
  {
   "cell_type": "code",
   "execution_count": 1,
   "id": "519b1535",
   "metadata": {},
   "outputs": [
    {
     "data": {
      "text/html": [
       "<div>\n",
       "<style scoped>\n",
       "    .dataframe tbody tr th:only-of-type {\n",
       "        vertical-align: middle;\n",
       "    }\n",
       "\n",
       "    .dataframe tbody tr th {\n",
       "        vertical-align: top;\n",
       "    }\n",
       "\n",
       "    .dataframe thead th {\n",
       "        text-align: right;\n",
       "    }\n",
       "</style>\n",
       "<table border=\"1\" class=\"dataframe\">\n",
       "  <thead>\n",
       "    <tr style=\"text-align: right;\">\n",
       "      <th></th>\n",
       "      <th>mean radius</th>\n",
       "      <th>mean texture</th>\n",
       "      <th>mean perimeter</th>\n",
       "      <th>mean area</th>\n",
       "      <th>mean smoothness</th>\n",
       "      <th>mean compactness</th>\n",
       "      <th>mean concavity</th>\n",
       "      <th>mean concave points</th>\n",
       "      <th>mean symmetry</th>\n",
       "      <th>mean fractal dimension</th>\n",
       "      <th>...</th>\n",
       "      <th>worst texture</th>\n",
       "      <th>worst perimeter</th>\n",
       "      <th>worst area</th>\n",
       "      <th>worst smoothness</th>\n",
       "      <th>worst compactness</th>\n",
       "      <th>worst concavity</th>\n",
       "      <th>worst concave points</th>\n",
       "      <th>worst symmetry</th>\n",
       "      <th>worst fractal dimension</th>\n",
       "      <th>target</th>\n",
       "    </tr>\n",
       "  </thead>\n",
       "  <tbody>\n",
       "    <tr>\n",
       "      <th>0</th>\n",
       "      <td>17.99</td>\n",
       "      <td>10.38</td>\n",
       "      <td>122.80</td>\n",
       "      <td>1001.0</td>\n",
       "      <td>0.11840</td>\n",
       "      <td>0.27760</td>\n",
       "      <td>0.3001</td>\n",
       "      <td>0.14710</td>\n",
       "      <td>0.2419</td>\n",
       "      <td>0.07871</td>\n",
       "      <td>...</td>\n",
       "      <td>17.33</td>\n",
       "      <td>184.60</td>\n",
       "      <td>2019.0</td>\n",
       "      <td>0.1622</td>\n",
       "      <td>0.6656</td>\n",
       "      <td>0.7119</td>\n",
       "      <td>0.2654</td>\n",
       "      <td>0.4601</td>\n",
       "      <td>0.11890</td>\n",
       "      <td>0</td>\n",
       "    </tr>\n",
       "    <tr>\n",
       "      <th>1</th>\n",
       "      <td>20.57</td>\n",
       "      <td>17.77</td>\n",
       "      <td>132.90</td>\n",
       "      <td>1326.0</td>\n",
       "      <td>0.08474</td>\n",
       "      <td>0.07864</td>\n",
       "      <td>0.0869</td>\n",
       "      <td>0.07017</td>\n",
       "      <td>0.1812</td>\n",
       "      <td>0.05667</td>\n",
       "      <td>...</td>\n",
       "      <td>23.41</td>\n",
       "      <td>158.80</td>\n",
       "      <td>1956.0</td>\n",
       "      <td>0.1238</td>\n",
       "      <td>0.1866</td>\n",
       "      <td>0.2416</td>\n",
       "      <td>0.1860</td>\n",
       "      <td>0.2750</td>\n",
       "      <td>0.08902</td>\n",
       "      <td>0</td>\n",
       "    </tr>\n",
       "    <tr>\n",
       "      <th>2</th>\n",
       "      <td>19.69</td>\n",
       "      <td>21.25</td>\n",
       "      <td>130.00</td>\n",
       "      <td>1203.0</td>\n",
       "      <td>0.10960</td>\n",
       "      <td>0.15990</td>\n",
       "      <td>0.1974</td>\n",
       "      <td>0.12790</td>\n",
       "      <td>0.2069</td>\n",
       "      <td>0.05999</td>\n",
       "      <td>...</td>\n",
       "      <td>25.53</td>\n",
       "      <td>152.50</td>\n",
       "      <td>1709.0</td>\n",
       "      <td>0.1444</td>\n",
       "      <td>0.4245</td>\n",
       "      <td>0.4504</td>\n",
       "      <td>0.2430</td>\n",
       "      <td>0.3613</td>\n",
       "      <td>0.08758</td>\n",
       "      <td>0</td>\n",
       "    </tr>\n",
       "    <tr>\n",
       "      <th>3</th>\n",
       "      <td>11.42</td>\n",
       "      <td>20.38</td>\n",
       "      <td>77.58</td>\n",
       "      <td>386.1</td>\n",
       "      <td>0.14250</td>\n",
       "      <td>0.28390</td>\n",
       "      <td>0.2414</td>\n",
       "      <td>0.10520</td>\n",
       "      <td>0.2597</td>\n",
       "      <td>0.09744</td>\n",
       "      <td>...</td>\n",
       "      <td>26.50</td>\n",
       "      <td>98.87</td>\n",
       "      <td>567.7</td>\n",
       "      <td>0.2098</td>\n",
       "      <td>0.8663</td>\n",
       "      <td>0.6869</td>\n",
       "      <td>0.2575</td>\n",
       "      <td>0.6638</td>\n",
       "      <td>0.17300</td>\n",
       "      <td>0</td>\n",
       "    </tr>\n",
       "    <tr>\n",
       "      <th>4</th>\n",
       "      <td>20.29</td>\n",
       "      <td>14.34</td>\n",
       "      <td>135.10</td>\n",
       "      <td>1297.0</td>\n",
       "      <td>0.10030</td>\n",
       "      <td>0.13280</td>\n",
       "      <td>0.1980</td>\n",
       "      <td>0.10430</td>\n",
       "      <td>0.1809</td>\n",
       "      <td>0.05883</td>\n",
       "      <td>...</td>\n",
       "      <td>16.67</td>\n",
       "      <td>152.20</td>\n",
       "      <td>1575.0</td>\n",
       "      <td>0.1374</td>\n",
       "      <td>0.2050</td>\n",
       "      <td>0.4000</td>\n",
       "      <td>0.1625</td>\n",
       "      <td>0.2364</td>\n",
       "      <td>0.07678</td>\n",
       "      <td>0</td>\n",
       "    </tr>\n",
       "  </tbody>\n",
       "</table>\n",
       "<p>5 rows × 31 columns</p>\n",
       "</div>"
      ],
      "text/plain": [
       "   mean radius  mean texture  mean perimeter  mean area  mean smoothness  \\\n",
       "0        17.99         10.38          122.80     1001.0          0.11840   \n",
       "1        20.57         17.77          132.90     1326.0          0.08474   \n",
       "2        19.69         21.25          130.00     1203.0          0.10960   \n",
       "3        11.42         20.38           77.58      386.1          0.14250   \n",
       "4        20.29         14.34          135.10     1297.0          0.10030   \n",
       "\n",
       "   mean compactness  mean concavity  mean concave points  mean symmetry  \\\n",
       "0           0.27760          0.3001              0.14710         0.2419   \n",
       "1           0.07864          0.0869              0.07017         0.1812   \n",
       "2           0.15990          0.1974              0.12790         0.2069   \n",
       "3           0.28390          0.2414              0.10520         0.2597   \n",
       "4           0.13280          0.1980              0.10430         0.1809   \n",
       "\n",
       "   mean fractal dimension  ...  worst texture  worst perimeter  worst area  \\\n",
       "0                 0.07871  ...          17.33           184.60      2019.0   \n",
       "1                 0.05667  ...          23.41           158.80      1956.0   \n",
       "2                 0.05999  ...          25.53           152.50      1709.0   \n",
       "3                 0.09744  ...          26.50            98.87       567.7   \n",
       "4                 0.05883  ...          16.67           152.20      1575.0   \n",
       "\n",
       "   worst smoothness  worst compactness  worst concavity  worst concave points  \\\n",
       "0            0.1622             0.6656           0.7119                0.2654   \n",
       "1            0.1238             0.1866           0.2416                0.1860   \n",
       "2            0.1444             0.4245           0.4504                0.2430   \n",
       "3            0.2098             0.8663           0.6869                0.2575   \n",
       "4            0.1374             0.2050           0.4000                0.1625   \n",
       "\n",
       "   worst symmetry  worst fractal dimension  target  \n",
       "0          0.4601                  0.11890       0  \n",
       "1          0.2750                  0.08902       0  \n",
       "2          0.3613                  0.08758       0  \n",
       "3          0.6638                  0.17300       0  \n",
       "4          0.2364                  0.07678       0  \n",
       "\n",
       "[5 rows x 31 columns]"
      ]
     },
     "execution_count": 1,
     "metadata": {},
     "output_type": "execute_result"
    }
   ],
   "source": [
    "import pandas as pd\n",
    "import numpy as np\n",
    "import matplotlib.pyplot as plt\n",
    "Breast_Cancer_df = pd.read_csv(r\"breast_cancer_data.csv\") \n",
    "Breast_Cancer_df.head()"
   ]
  },
  {
   "cell_type": "markdown",
   "id": "280506d5",
   "metadata": {},
   "source": [
    "### Exploring the data:"
   ]
  },
  {
   "cell_type": "code",
   "execution_count": 2,
   "id": "63fde8a2",
   "metadata": {},
   "outputs": [
    {
     "data": {
      "text/plain": [
       "(569, 31)"
      ]
     },
     "execution_count": 2,
     "metadata": {},
     "output_type": "execute_result"
    }
   ],
   "source": [
    "Breast_Cancer_df.shape"
   ]
  },
  {
   "cell_type": "code",
   "execution_count": 3,
   "id": "69f5331f",
   "metadata": {},
   "outputs": [
    {
     "name": "stdout",
     "output_type": "stream",
     "text": [
      "<class 'pandas.core.frame.DataFrame'>\n",
      "RangeIndex: 569 entries, 0 to 568\n",
      "Data columns (total 31 columns):\n",
      " #   Column                   Non-Null Count  Dtype  \n",
      "---  ------                   --------------  -----  \n",
      " 0   mean radius              569 non-null    float64\n",
      " 1   mean texture             569 non-null    float64\n",
      " 2   mean perimeter           569 non-null    float64\n",
      " 3   mean area                569 non-null    float64\n",
      " 4   mean smoothness          569 non-null    float64\n",
      " 5   mean compactness         569 non-null    float64\n",
      " 6   mean concavity           569 non-null    float64\n",
      " 7   mean concave points      569 non-null    float64\n",
      " 8   mean symmetry            569 non-null    float64\n",
      " 9   mean fractal dimension   569 non-null    float64\n",
      " 10  radius error             569 non-null    float64\n",
      " 11  texture error            569 non-null    float64\n",
      " 12  perimeter error          569 non-null    float64\n",
      " 13  area error               569 non-null    float64\n",
      " 14  smoothness error         569 non-null    float64\n",
      " 15  compactness error        569 non-null    float64\n",
      " 16  concavity error          569 non-null    float64\n",
      " 17  concave points error     569 non-null    float64\n",
      " 18  symmetry error           569 non-null    float64\n",
      " 19  fractal dimension error  569 non-null    float64\n",
      " 20  worst radius             569 non-null    float64\n",
      " 21  worst texture            569 non-null    float64\n",
      " 22  worst perimeter          569 non-null    float64\n",
      " 23  worst area               569 non-null    float64\n",
      " 24  worst smoothness         569 non-null    float64\n",
      " 25  worst compactness        569 non-null    float64\n",
      " 26  worst concavity          569 non-null    float64\n",
      " 27  worst concave points     569 non-null    float64\n",
      " 28  worst symmetry           569 non-null    float64\n",
      " 29  worst fractal dimension  569 non-null    float64\n",
      " 30  target                   569 non-null    int64  \n",
      "dtypes: float64(30), int64(1)\n",
      "memory usage: 137.9 KB\n"
     ]
    }
   ],
   "source": [
    "Breast_Cancer_df.info()"
   ]
  },
  {
   "cell_type": "code",
   "execution_count": 4,
   "id": "69aa5f0d",
   "metadata": {},
   "outputs": [
    {
     "data": {
      "text/html": [
       "<div>\n",
       "<style scoped>\n",
       "    .dataframe tbody tr th:only-of-type {\n",
       "        vertical-align: middle;\n",
       "    }\n",
       "\n",
       "    .dataframe tbody tr th {\n",
       "        vertical-align: top;\n",
       "    }\n",
       "\n",
       "    .dataframe thead th {\n",
       "        text-align: right;\n",
       "    }\n",
       "</style>\n",
       "<table border=\"1\" class=\"dataframe\">\n",
       "  <thead>\n",
       "    <tr style=\"text-align: right;\">\n",
       "      <th></th>\n",
       "      <th>mean radius</th>\n",
       "      <th>mean texture</th>\n",
       "      <th>mean perimeter</th>\n",
       "      <th>mean area</th>\n",
       "      <th>mean smoothness</th>\n",
       "      <th>mean compactness</th>\n",
       "      <th>mean concavity</th>\n",
       "      <th>mean concave points</th>\n",
       "      <th>mean symmetry</th>\n",
       "      <th>mean fractal dimension</th>\n",
       "      <th>...</th>\n",
       "      <th>worst texture</th>\n",
       "      <th>worst perimeter</th>\n",
       "      <th>worst area</th>\n",
       "      <th>worst smoothness</th>\n",
       "      <th>worst compactness</th>\n",
       "      <th>worst concavity</th>\n",
       "      <th>worst concave points</th>\n",
       "      <th>worst symmetry</th>\n",
       "      <th>worst fractal dimension</th>\n",
       "      <th>target</th>\n",
       "    </tr>\n",
       "  </thead>\n",
       "  <tbody>\n",
       "    <tr>\n",
       "      <th>count</th>\n",
       "      <td>569.000000</td>\n",
       "      <td>569.000000</td>\n",
       "      <td>569.000000</td>\n",
       "      <td>569.000000</td>\n",
       "      <td>569.000000</td>\n",
       "      <td>569.000000</td>\n",
       "      <td>569.000000</td>\n",
       "      <td>569.000000</td>\n",
       "      <td>569.000000</td>\n",
       "      <td>569.000000</td>\n",
       "      <td>...</td>\n",
       "      <td>569.000000</td>\n",
       "      <td>569.000000</td>\n",
       "      <td>569.000000</td>\n",
       "      <td>569.000000</td>\n",
       "      <td>569.000000</td>\n",
       "      <td>569.000000</td>\n",
       "      <td>569.000000</td>\n",
       "      <td>569.000000</td>\n",
       "      <td>569.000000</td>\n",
       "      <td>569.000000</td>\n",
       "    </tr>\n",
       "    <tr>\n",
       "      <th>mean</th>\n",
       "      <td>14.127292</td>\n",
       "      <td>19.289649</td>\n",
       "      <td>91.969033</td>\n",
       "      <td>654.889104</td>\n",
       "      <td>0.096360</td>\n",
       "      <td>0.104341</td>\n",
       "      <td>0.088799</td>\n",
       "      <td>0.048919</td>\n",
       "      <td>0.181162</td>\n",
       "      <td>0.062798</td>\n",
       "      <td>...</td>\n",
       "      <td>25.677223</td>\n",
       "      <td>107.261213</td>\n",
       "      <td>880.583128</td>\n",
       "      <td>0.132369</td>\n",
       "      <td>0.254265</td>\n",
       "      <td>0.272188</td>\n",
       "      <td>0.114606</td>\n",
       "      <td>0.290076</td>\n",
       "      <td>0.083946</td>\n",
       "      <td>0.627417</td>\n",
       "    </tr>\n",
       "    <tr>\n",
       "      <th>std</th>\n",
       "      <td>3.524049</td>\n",
       "      <td>4.301036</td>\n",
       "      <td>24.298981</td>\n",
       "      <td>351.914129</td>\n",
       "      <td>0.014064</td>\n",
       "      <td>0.052813</td>\n",
       "      <td>0.079720</td>\n",
       "      <td>0.038803</td>\n",
       "      <td>0.027414</td>\n",
       "      <td>0.007060</td>\n",
       "      <td>...</td>\n",
       "      <td>6.146258</td>\n",
       "      <td>33.602542</td>\n",
       "      <td>569.356993</td>\n",
       "      <td>0.022832</td>\n",
       "      <td>0.157336</td>\n",
       "      <td>0.208624</td>\n",
       "      <td>0.065732</td>\n",
       "      <td>0.061867</td>\n",
       "      <td>0.018061</td>\n",
       "      <td>0.483918</td>\n",
       "    </tr>\n",
       "    <tr>\n",
       "      <th>min</th>\n",
       "      <td>6.981000</td>\n",
       "      <td>9.710000</td>\n",
       "      <td>43.790000</td>\n",
       "      <td>143.500000</td>\n",
       "      <td>0.052630</td>\n",
       "      <td>0.019380</td>\n",
       "      <td>0.000000</td>\n",
       "      <td>0.000000</td>\n",
       "      <td>0.106000</td>\n",
       "      <td>0.049960</td>\n",
       "      <td>...</td>\n",
       "      <td>12.020000</td>\n",
       "      <td>50.410000</td>\n",
       "      <td>185.200000</td>\n",
       "      <td>0.071170</td>\n",
       "      <td>0.027290</td>\n",
       "      <td>0.000000</td>\n",
       "      <td>0.000000</td>\n",
       "      <td>0.156500</td>\n",
       "      <td>0.055040</td>\n",
       "      <td>0.000000</td>\n",
       "    </tr>\n",
       "    <tr>\n",
       "      <th>25%</th>\n",
       "      <td>11.700000</td>\n",
       "      <td>16.170000</td>\n",
       "      <td>75.170000</td>\n",
       "      <td>420.300000</td>\n",
       "      <td>0.086370</td>\n",
       "      <td>0.064920</td>\n",
       "      <td>0.029560</td>\n",
       "      <td>0.020310</td>\n",
       "      <td>0.161900</td>\n",
       "      <td>0.057700</td>\n",
       "      <td>...</td>\n",
       "      <td>21.080000</td>\n",
       "      <td>84.110000</td>\n",
       "      <td>515.300000</td>\n",
       "      <td>0.116600</td>\n",
       "      <td>0.147200</td>\n",
       "      <td>0.114500</td>\n",
       "      <td>0.064930</td>\n",
       "      <td>0.250400</td>\n",
       "      <td>0.071460</td>\n",
       "      <td>0.000000</td>\n",
       "    </tr>\n",
       "    <tr>\n",
       "      <th>50%</th>\n",
       "      <td>13.370000</td>\n",
       "      <td>18.840000</td>\n",
       "      <td>86.240000</td>\n",
       "      <td>551.100000</td>\n",
       "      <td>0.095870</td>\n",
       "      <td>0.092630</td>\n",
       "      <td>0.061540</td>\n",
       "      <td>0.033500</td>\n",
       "      <td>0.179200</td>\n",
       "      <td>0.061540</td>\n",
       "      <td>...</td>\n",
       "      <td>25.410000</td>\n",
       "      <td>97.660000</td>\n",
       "      <td>686.500000</td>\n",
       "      <td>0.131300</td>\n",
       "      <td>0.211900</td>\n",
       "      <td>0.226700</td>\n",
       "      <td>0.099930</td>\n",
       "      <td>0.282200</td>\n",
       "      <td>0.080040</td>\n",
       "      <td>1.000000</td>\n",
       "    </tr>\n",
       "    <tr>\n",
       "      <th>75%</th>\n",
       "      <td>15.780000</td>\n",
       "      <td>21.800000</td>\n",
       "      <td>104.100000</td>\n",
       "      <td>782.700000</td>\n",
       "      <td>0.105300</td>\n",
       "      <td>0.130400</td>\n",
       "      <td>0.130700</td>\n",
       "      <td>0.074000</td>\n",
       "      <td>0.195700</td>\n",
       "      <td>0.066120</td>\n",
       "      <td>...</td>\n",
       "      <td>29.720000</td>\n",
       "      <td>125.400000</td>\n",
       "      <td>1084.000000</td>\n",
       "      <td>0.146000</td>\n",
       "      <td>0.339100</td>\n",
       "      <td>0.382900</td>\n",
       "      <td>0.161400</td>\n",
       "      <td>0.317900</td>\n",
       "      <td>0.092080</td>\n",
       "      <td>1.000000</td>\n",
       "    </tr>\n",
       "    <tr>\n",
       "      <th>max</th>\n",
       "      <td>28.110000</td>\n",
       "      <td>39.280000</td>\n",
       "      <td>188.500000</td>\n",
       "      <td>2501.000000</td>\n",
       "      <td>0.163400</td>\n",
       "      <td>0.345400</td>\n",
       "      <td>0.426800</td>\n",
       "      <td>0.201200</td>\n",
       "      <td>0.304000</td>\n",
       "      <td>0.097440</td>\n",
       "      <td>...</td>\n",
       "      <td>49.540000</td>\n",
       "      <td>251.200000</td>\n",
       "      <td>4254.000000</td>\n",
       "      <td>0.222600</td>\n",
       "      <td>1.058000</td>\n",
       "      <td>1.252000</td>\n",
       "      <td>0.291000</td>\n",
       "      <td>0.663800</td>\n",
       "      <td>0.207500</td>\n",
       "      <td>1.000000</td>\n",
       "    </tr>\n",
       "  </tbody>\n",
       "</table>\n",
       "<p>8 rows × 31 columns</p>\n",
       "</div>"
      ],
      "text/plain": [
       "       mean radius  mean texture  mean perimeter    mean area  \\\n",
       "count   569.000000    569.000000      569.000000   569.000000   \n",
       "mean     14.127292     19.289649       91.969033   654.889104   \n",
       "std       3.524049      4.301036       24.298981   351.914129   \n",
       "min       6.981000      9.710000       43.790000   143.500000   \n",
       "25%      11.700000     16.170000       75.170000   420.300000   \n",
       "50%      13.370000     18.840000       86.240000   551.100000   \n",
       "75%      15.780000     21.800000      104.100000   782.700000   \n",
       "max      28.110000     39.280000      188.500000  2501.000000   \n",
       "\n",
       "       mean smoothness  mean compactness  mean concavity  mean concave points  \\\n",
       "count       569.000000        569.000000      569.000000           569.000000   \n",
       "mean          0.096360          0.104341        0.088799             0.048919   \n",
       "std           0.014064          0.052813        0.079720             0.038803   \n",
       "min           0.052630          0.019380        0.000000             0.000000   \n",
       "25%           0.086370          0.064920        0.029560             0.020310   \n",
       "50%           0.095870          0.092630        0.061540             0.033500   \n",
       "75%           0.105300          0.130400        0.130700             0.074000   \n",
       "max           0.163400          0.345400        0.426800             0.201200   \n",
       "\n",
       "       mean symmetry  mean fractal dimension  ...  worst texture  \\\n",
       "count     569.000000              569.000000  ...     569.000000   \n",
       "mean        0.181162                0.062798  ...      25.677223   \n",
       "std         0.027414                0.007060  ...       6.146258   \n",
       "min         0.106000                0.049960  ...      12.020000   \n",
       "25%         0.161900                0.057700  ...      21.080000   \n",
       "50%         0.179200                0.061540  ...      25.410000   \n",
       "75%         0.195700                0.066120  ...      29.720000   \n",
       "max         0.304000                0.097440  ...      49.540000   \n",
       "\n",
       "       worst perimeter   worst area  worst smoothness  worst compactness  \\\n",
       "count       569.000000   569.000000        569.000000         569.000000   \n",
       "mean        107.261213   880.583128          0.132369           0.254265   \n",
       "std          33.602542   569.356993          0.022832           0.157336   \n",
       "min          50.410000   185.200000          0.071170           0.027290   \n",
       "25%          84.110000   515.300000          0.116600           0.147200   \n",
       "50%          97.660000   686.500000          0.131300           0.211900   \n",
       "75%         125.400000  1084.000000          0.146000           0.339100   \n",
       "max         251.200000  4254.000000          0.222600           1.058000   \n",
       "\n",
       "       worst concavity  worst concave points  worst symmetry  \\\n",
       "count       569.000000            569.000000      569.000000   \n",
       "mean          0.272188              0.114606        0.290076   \n",
       "std           0.208624              0.065732        0.061867   \n",
       "min           0.000000              0.000000        0.156500   \n",
       "25%           0.114500              0.064930        0.250400   \n",
       "50%           0.226700              0.099930        0.282200   \n",
       "75%           0.382900              0.161400        0.317900   \n",
       "max           1.252000              0.291000        0.663800   \n",
       "\n",
       "       worst fractal dimension      target  \n",
       "count               569.000000  569.000000  \n",
       "mean                  0.083946    0.627417  \n",
       "std                   0.018061    0.483918  \n",
       "min                   0.055040    0.000000  \n",
       "25%                   0.071460    0.000000  \n",
       "50%                   0.080040    1.000000  \n",
       "75%                   0.092080    1.000000  \n",
       "max                   0.207500    1.000000  \n",
       "\n",
       "[8 rows x 31 columns]"
      ]
     },
     "execution_count": 4,
     "metadata": {},
     "output_type": "execute_result"
    }
   ],
   "source": [
    "Breast_Cancer_df.describe()"
   ]
  },
  {
   "cell_type": "code",
   "execution_count": 5,
   "id": "df663c73",
   "metadata": {},
   "outputs": [
    {
     "data": {
      "text/plain": [
       "mean radius                0\n",
       "mean texture               0\n",
       "mean perimeter             0\n",
       "mean area                  0\n",
       "mean smoothness            0\n",
       "mean compactness           0\n",
       "mean concavity             0\n",
       "mean concave points        0\n",
       "mean symmetry              0\n",
       "mean fractal dimension     0\n",
       "radius error               0\n",
       "texture error              0\n",
       "perimeter error            0\n",
       "area error                 0\n",
       "smoothness error           0\n",
       "compactness error          0\n",
       "concavity error            0\n",
       "concave points error       0\n",
       "symmetry error             0\n",
       "fractal dimension error    0\n",
       "worst radius               0\n",
       "worst texture              0\n",
       "worst perimeter            0\n",
       "worst area                 0\n",
       "worst smoothness           0\n",
       "worst compactness          0\n",
       "worst concavity            0\n",
       "worst concave points       0\n",
       "worst symmetry             0\n",
       "worst fractal dimension    0\n",
       "target                     0\n",
       "dtype: int64"
      ]
     },
     "execution_count": 5,
     "metadata": {},
     "output_type": "execute_result"
    }
   ],
   "source": [
    "Breast_Cancer_df.isnull().sum()"
   ]
  },
  {
   "cell_type": "code",
   "execution_count": 6,
   "id": "840f0d44",
   "metadata": {},
   "outputs": [
    {
     "name": "stdout",
     "output_type": "stream",
     "text": [
      "target\n",
      "1    357\n",
      "0    212\n",
      "Name: count, dtype: int64\n"
     ]
    },
    {
     "data": {
      "image/png": "[encoded data removed]",
      "text/plain": [
       "<Figure size 1000x600 with 1 Axes>"
      ]
     },
     "metadata": {},
     "output_type": "display_data"
    }
   ],
   "source": [
    "print(Breast_Cancer_df[\"target\"].value_counts())\n",
    "plt.figure(figsize=(10, 6))\n",
    "plt.hist(Breast_Cancer_df['target'], bins=2, color='lightblue', alpha=0.7, edgecolor='black')\n",
    "plt.title(\"Distribution of target\")\n",
    "plt.xlabel(\"target\")\n",
    "plt.show()\n"
   ]
  },
  {
   "cell_type": "markdown",
   "id": "0938e423",
   "metadata": {},
   "source": [
    "### handling the outliers:"
   ]
  },
  {
   "cell_type": "code",
   "execution_count": 7,
   "id": "8d5fd911",
   "metadata": {},
   "outputs": [],
   "source": [
    "def clip_outliers_iqr(column):\n",
    "    Q1=column.quantile(0.25)\n",
    "    Q3=column.quantile(0.75)\n",
    "    IQR=Q3-Q1\n",
    "    lower_bound = Q1 -1.5*IQR\n",
    "    higher_bound = Q3 +1.5*IQR\n",
    "    outlier=((column<lower_bound)|(column>higher_bound))\n",
    "    # Clip the outliers\n",
    "    return np.clip(column,lower_bound,higher_bound)\n",
    "\n",
    "for column in Breast_Cancer_df.select_dtypes(include=[np.number]).columns:\n",
    "    clip_outliers_iqr(Breast_Cancer_df[column])\n",
    "    "
   ]
  },
  {
   "cell_type": "code",
   "execution_count": 8,
   "id": "109089ee",
   "metadata": {},
   "outputs": [],
   "source": [
    "#Breast_Cancer_df[\"diagnosis\"]= Breast_Cancer_df[\"diagnosis\"].map({\"M\": 1, \"B\": 0})"
   ]
  },
  {
   "cell_type": "code",
   "execution_count": 9,
   "id": "d61184fe",
   "metadata": {},
   "outputs": [
    {
     "name": "stdout",
     "output_type": "stream",
     "text": [
      "target                     1.000000\n",
      "smoothness error           0.067016\n",
      "mean fractal dimension     0.012838\n",
      "texture error              0.008303\n",
      "symmetry error             0.006522\n",
      "fractal dimension error   -0.077972\n",
      "concavity error           -0.253730\n",
      "compactness error         -0.292999\n",
      "worst fractal dimension   -0.323872\n",
      "mean symmetry             -0.330499\n",
      "mean smoothness           -0.358560\n",
      "concave points error      -0.408042\n",
      "mean texture              -0.415185\n",
      "worst symmetry            -0.416294\n",
      "worst smoothness          -0.421465\n",
      "worst texture             -0.456903\n",
      "area error                -0.548236\n",
      "perimeter error           -0.556141\n",
      "radius error              -0.567134\n",
      "worst compactness         -0.590998\n",
      "mean compactness          -0.596534\n",
      "worst concavity           -0.659610\n",
      "mean concavity            -0.696360\n",
      "mean area                 -0.708984\n",
      "mean radius               -0.730029\n",
      "worst area                -0.733825\n",
      "mean perimeter            -0.742636\n",
      "worst radius              -0.776454\n",
      "mean concave points       -0.776614\n",
      "worst perimeter           -0.782914\n",
      "worst concave points      -0.793566\n",
      "Name: target, dtype: float64\n"
     ]
    },
    {
     "data": {
      "image/png": "[encoded data removed]",
      "text/plain": [
       "<Figure size 1200x800 with 2 Axes>"
      ]
     },
     "metadata": {},
     "output_type": "display_data"
    }
   ],
   "source": [
    "corr_matrix = Breast_Cancer_df.corr()\n",
    "import seaborn as sns\n",
    "plt.figure(figsize=(12, 8))\n",
    "sns.heatmap(corr_matrix, fmt=\".2f\", cmap=\"coolwarm\", square=True, cbar_kws={\"shrink\": .8})\n",
    "plt.title(\"Correlation Matrix of Features\")\n",
    "print(corr_matrix[\"target\"].sort_values(ascending=False))\n",
    "plt.show()"
   ]
  },
  {
   "cell_type": "markdown",
   "id": "d947ef49",
   "metadata": {},
   "source": [
    "# Support Vector Machine "
   ]
  },
  {
   "cell_type": "code",
   "execution_count": 10,
   "id": "3ef7e6a2",
   "metadata": {},
   "outputs": [],
   "source": [
    "import numpy as np\n",
    "import pandas as pd\n",
    "from sklearn import datasets\n",
    "from sklearn.model_selection import train_test_split\n",
    "from sklearn.svm import SVC\n",
    "from sklearn.preprocessing import StandardScaler\n",
    "from sklearn.metrics import classification_report, confusion_matrix, accuracy_score, roc_curve, auc\n",
    "import plotly.graph_objects as go\n",
    "from ipywidgets import Dropdown, FloatSlider, interact\n",
    "import plotly.express as px"
   ]
  },
  {
   "cell_type": "code",
   "execution_count": 11,
   "id": "3d0cf651",
   "metadata": {},
   "outputs": [],
   "source": [
    "# Load the Breast Cancer Wisconsin dataset from sklearn\n",
    "cancer = datasets.load_breast_cancer()\n",
    "\n",
    "# Create a pandas DataFrame for features (X) using the feature names provided in the dataset\n",
    "X = pd.DataFrame(cancer.data, columns=cancer.feature_names)\n",
    "\n",
    "# Define the target variable (y), where:\n",
    "# 0 represents malignant tumors\n",
    "# 1 represents benign tumors\n",
    "y = cancer.target"
   ]
  },
  {
   "cell_type": "code",
   "execution_count": 12,
   "id": "b75c02f6",
   "metadata": {},
   "outputs": [],
   "source": [
    "# Select the most important features based on correlation with diagnosis\n",
    "important_features = [\n",
    "    'worst concave points',\n",
    "    'worst perimeter',\n",
    "    'worst radius',\n",
    "    'mean perimeter',\n",
    "    'worst area',\n",
    "    'mean radius'\n",
    "]\n",
    "\n",
    "# Create a new DataFrame containing only the selected important features\n",
    "X_imp = X[important_features]"
   ]
  },
  {
   "cell_type": "code",
   "execution_count": 13,
   "id": "2b94bf4a",
   "metadata": {},
   "outputs": [],
   "source": [
    "# Split data into training and testing sets (70% train, 30% test)\n",
    "X_train, X_test, y_train, y_test = train_test_split(\n",
    "    X_imp, y, test_size=0.3, random_state=42\n",
    ")"
   ]
  },
  {
   "cell_type": "code",
   "execution_count": 14,
   "id": "b0ddc74e",
   "metadata": {},
   "outputs": [],
   "source": [
    "# Initialize the StandardScaler to scale features by removing mean and scaling to unit variance\n",
    "scaler = StandardScaler()\n",
    "\n",
    "# Fit the scaler on the training data and transform it (learn mean and std from training set)\n",
    "X_train_scaled = scaler.fit_transform(X_train)\n",
    "\n",
    "# Transform the test data using the same scaler fitted on the training data (do NOT refit)\n",
    "X_test_scaled = scaler.transform(X_test)"
   ]
  },
  {
   "cell_type": "markdown",
   "id": "c958e9d2",
   "metadata": {},
   "source": [
    "### Train and Evaluate SVM Models with Different Kernels"
   ]
  },
  {
   "cell_type": "code",
   "execution_count": 15,
   "id": "edaf0682",
   "metadata": {},
   "outputs": [],
   "source": [
    "# Define a list of kernel types to experiment with in SVM\n",
    "kernels = ['linear', 'poly', 'rbf']\n",
    "# Initialize an empty dictionary to store model evaluation results\n",
    "results = {}\n",
    "# Loop through each kernel type and train an SVM model\n",
    "for kernel in kernels:\n",
    "    # Create an SVM classifier with the current kernel\n",
    "    model = SVC(kernel=kernel, random_state=42)\n",
    "    # Train the model on the scaled training data\n",
    "    model.fit(X_train_scaled, y_train)\n",
    "    # Make predictions on the scaled test data\n",
    "    y_pred = model.predict(X_test_scaled)\n",
    "    # Calculate accuracy score of the model\n",
    "    acc = accuracy_score(y_test, y_pred)\n",
    "    # Generate confusion matrix to evaluate classification performance\n",
    "    cm = confusion_matrix(y_test, y_pred)\n",
    "    # Generate detailed classification report (precision, recall, F1-score)\n",
    "    report = classification_report(y_test, y_pred, target_names=cancer.target_names)\n",
    "    # Store the evaluation metrics for this kernel in the results dictionary\n",
    "    results[kernel] = {\n",
    "        'accuracy': acc,\n",
    "        'confusion_matrix': cm,\n",
    "        'classification_report': report\n",
    "    }"
   ]
  },
  {
   "cell_type": "code",
   "execution_count": 16,
   "id": "baef8345",
   "metadata": {},
   "outputs": [
    {
     "name": "stdout",
     "output_type": "stream",
     "text": [
      "SVM Model Evaluation Results:\n",
      "\n",
      "******** Kernel: linear ********\n",
      "Accuracy: 0.9766\n",
      "\n",
      "Confusion Matrix:\n",
      "[[ 60   3]\n",
      " [  1 107]]\n",
      "\n",
      "Classification Report:\n",
      "              precision    recall  f1-score   support\n",
      "\n",
      "   malignant       0.98      0.95      0.97        63\n",
      "      benign       0.97      0.99      0.98       108\n",
      "\n",
      "    accuracy                           0.98       171\n",
      "   macro avg       0.98      0.97      0.97       171\n",
      "weighted avg       0.98      0.98      0.98       171\n",
      "\n",
      "--------------------------------------------------\n",
      "\n",
      "******** Kernel: poly ********\n",
      "Accuracy: 0.8947\n",
      "\n",
      "Confusion Matrix:\n",
      "[[ 45  18]\n",
      " [  0 108]]\n",
      "\n",
      "Classification Report:\n",
      "              precision    recall  f1-score   support\n",
      "\n",
      "   malignant       1.00      0.71      0.83        63\n",
      "      benign       0.86      1.00      0.92       108\n",
      "\n",
      "    accuracy                           0.89       171\n",
      "   macro avg       0.93      0.86      0.88       171\n",
      "weighted avg       0.91      0.89      0.89       171\n",
      "\n",
      "--------------------------------------------------\n",
      "\n",
      "******** Kernel: rbf ********\n",
      "Accuracy: 0.9474\n",
      "\n",
      "Confusion Matrix:\n",
      "[[ 56   7]\n",
      " [  2 106]]\n",
      "\n",
      "Classification Report:\n",
      "              precision    recall  f1-score   support\n",
      "\n",
      "   malignant       0.97      0.89      0.93        63\n",
      "      benign       0.94      0.98      0.96       108\n",
      "\n",
      "    accuracy                           0.95       171\n",
      "   macro avg       0.95      0.94      0.94       171\n",
      "weighted avg       0.95      0.95      0.95       171\n",
      "\n",
      "--------------------------------------------------\n",
      "\n"
     ]
    }
   ],
   "source": [
    "# Print evaluation results for each SVM model\n",
    "print(\"SVM Model Evaluation Results:\\n\")\n",
    "# Loop through each kernel type and display its performance metrics\n",
    "for kernel in kernels:\n",
    "    print(f\"******** Kernel: {kernel} ********\")\n",
    "    # Display the accuracy score of the model\n",
    "    print(f\"Accuracy: {results[kernel]['accuracy']:.4f}\")\n",
    "    # Display the confusion matrix\n",
    "    print(\"\\nConfusion Matrix:\")\n",
    "    print(results[kernel]['confusion_matrix'])\n",
    "    # Display the classification report: precision, recall, F1-score\n",
    "    print(\"\\nClassification Report:\")\n",
    "    print(results[kernel]['classification_report'])\n",
    "    print(\"-\" * 50 + \"\\n\")"
   ]
  },
  {
   "cell_type": "markdown",
   "id": "cf003935",
   "metadata": {},
   "source": [
    "### Interactive Widgets for Kernel and C"
   ]
  },
  {
   "cell_type": "code",
   "execution_count": 17,
   "id": "d24154cd",
   "metadata": {},
   "outputs": [],
   "source": [
    "def train_and_evaluate_interactive_svm(kernel='rbf', C=1.0):\n",
    "    \"\"\"\n",
    "    Interactive SVM evaluation using only the most important features.\n",
    "    \n",
    "    Args:\n",
    "        kernel (str): Kernel type ('linear', 'poly', 'rbf')\n",
    "        C (float): Regularization parameter (0.1 to 10)\n",
    "    \"\"\"\n",
    "    \n",
    "    # Train SVM model with probability estimates enabled for ROC curve\n",
    "    svm = SVC(kernel=kernel, C=C, probability=True, random_state=42)\n",
    "    svm.fit(X_train_scaled, y_train)\n",
    "    \n",
    "    # Make predictions on the scaled test data\n",
    "    y_pred = svm.predict(X_test_scaled)\n",
    "    \n",
    "    # Get predicted probabilities for ROC curve (not needed for linear kernel)\n",
    "    y_proba = svm.predict_proba(X_test_scaled)[:, 1] if kernel != 'linear' else None\n",
    "    \n",
    "    # Print performance metrics\n",
    "    print(f\"\\n=== SVM Evaluation (Kernel: {kernel}, C: {C}) ===\")\n",
    "    print(f\"Accuracy: {accuracy_score(y_test, y_pred):.4f}\")\n",
    "    print(\"\\nClassification Report:\")\n",
    "    print(classification_report(y_test, y_pred, target_names=cancer.target_names))\n",
    "    \n",
    "    # Generate and display confusion matrix as an interactive heatmap\n",
    "    cm = confusion_matrix(y_test, y_pred)\n",
    "    fig_cm = px.imshow(\n",
    "        cm,\n",
    "        labels=dict(x=\"Predicted\", y=\"Actual\", color=\"Count\"),\n",
    "        x=cancer.target_names,\n",
    "        y=cancer.target_names,\n",
    "        color_continuous_scale='Blues',\n",
    "        title=f'Confusion Matrix (Kernel: {kernel}, C: {C})'\n",
    "    )\n",
    "    fig_cm.update_traces(text=cm, texttemplate=\"%{text}\", textfont_size=20)\n",
    "    fig_cm.show()\n",
    "    \n",
    "    # Generate and display ROC curve if probabilities are available\n",
    "    if y_proba is not None:\n",
    "        fpr, tpr, thresholds = roc_curve(y_test, y_proba)\n",
    "        roc_auc = auc(fpr, tpr)\n",
    "\n",
    "        fig_roc = go.Figure()\n",
    "        fig_roc.add_trace(go.Scatter(\n",
    "            x=fpr, y=tpr, mode='lines',\n",
    "            name=f'ROC curve (AUC = {roc_auc:.4f})',\n",
    "            line=dict(color='darkorange', width=2)\n",
    "        ))\n",
    "        fig_roc.add_trace(go.Scatter(\n",
    "            x=[0, 1], y=[0, 1],\n",
    "            mode='lines',\n",
    "            name='Random Guess',\n",
    "            line=dict(color='navy', dash='dash')\n",
    "        ))\n",
    "        fig_roc.update_layout(\n",
    "            title=f'ROC Curve - Performance Evaluation (AUC = {roc_auc:.4f})',\n",
    "            xaxis_title='False Positive Rate',\n",
    "            yaxis_title='True Positive Rate',\n",
    "            width=700, height=500\n",
    "        )\n",
    "        fig_roc.show()\n",
    "    \n",
    "    # Plot decision boundary using first two features (for visualization)\n",
    "    if X_train_scaled.shape[1] >= 2:\n",
    "        # Train a separate model on just the first two features\n",
    "        svm_db = SVC(kernel=kernel, C=C, probability=True, random_state=42)\n",
    "        svm_db.fit(X_train_scaled[:, :2], y_train)\n",
    "\n",
    "        # Create mesh grid for plotting decision boundary\n",
    "        x_min, x_max = X_train_scaled[:, 0].min() - 1, X_train_scaled[:, 0].max() + 1\n",
    "        y_min, y_max = X_train_scaled[:, 1].min() - 1, X_train_scaled[:, 1].max() + 1\n",
    "        xx, yy = np.meshgrid(np.linspace(x_min, x_max, 50),\n",
    "                              np.linspace(y_min, y_max, 50))\n",
    "        \n",
    "        # Predict probabilities over mesh grid\n",
    "        Z = svm_db.predict_proba(np.c_[xx.ravel(), yy.ravel()])[:, 1]\n",
    "        Z = Z.reshape(xx.shape)\n",
    "\n",
    "        # Create contour plot for decision boundary\n",
    "        fig_db = go.Figure()\n",
    "        fig_db.add_trace(go.Contour(\n",
    "            x=np.linspace(x_min, x_max, 50),\n",
    "            y=np.linspace(y_min, y_max, 50),\n",
    "            z=Z,\n",
    "            colorscale='RdBu',\n",
    "            opacity=0.7,\n",
    "            showscale=False,\n",
    "            contours=dict(showlines=False),\n",
    "            name='Decision Boundary'\n",
    "        ))\n",
    "\n",
    "        # Add actual test data points\n",
    "        fig_db.add_trace(go.Scatter(\n",
    "            x=X_test_scaled[:, 0],\n",
    "            y=X_test_scaled[:, 1],\n",
    "            mode='markers',\n",
    "            marker=dict(\n",
    "                color=y_test,\n",
    "                colorscale=['red', 'blue'],\n",
    "                size=8,\n",
    "                line=dict(width=1, color='DarkSlateGrey')\n",
    "            ),\n",
    "            name='Test Data',\n",
    "            text=[f'Actual: {cancer.target_names[y]}<br>Predicted: {cancer.target_names[p]}' \n",
    "                  for y, p in zip(y_test, y_pred)],\n",
    "            hoverinfo='text+x+y'\n",
    "        ))\n",
    "\n",
    "        # Update layout for clarity\n",
    "        fig_db.update_layout(\n",
    "            title=f'Decision Boundary (Important Features)<br>Kernel: {kernel}, C: {C}',\n",
    "            xaxis_title='Feature 1 (Scaled)',\n",
    "            yaxis_title='Feature 2 (Scaled)',\n",
    "            width=700, height=500\n",
    "        )\n",
    "        fig_db.show()"
   ]
  },
  {
   "cell_type": "code",
   "execution_count": 18,
   "id": "e2fb149f",
   "metadata": {},
   "outputs": [
    {
     "name": "stdout",
     "output_type": "stream",
     "text": [
      "Interactive SVM Classifier for Breast Cancer Detection (With Feature Selection)\n"
     ]
    },
    {
     "data": {
      "application/vnd.jupyter.widget-view+json": {
       "model_id": "dda6f88b9f6a4faab781ca3952831ce1",
       "version_major": 2,
       "version_minor": 0
      },
      "text/plain": [
       "interactive(children=(Dropdown(description='Kernel:', index=2, options=('linear', 'poly', 'rbf'), value='rbf')…"
      ]
     },
     "metadata": {},
     "output_type": "display_data"
    },
    {
     "data": {
      "text/plain": [
       "<function __main__.train_and_evaluate_interactive_svm(kernel='rbf', C=1.0)>"
      ]
     },
     "execution_count": 18,
     "metadata": {},
     "output_type": "execute_result"
    }
   ],
   "source": [
    "# Create a dropdown menu for selecting the SVM kernel\n",
    "kernel_dropdown = Dropdown(\n",
    "    options=['linear', 'poly', 'rbf'],\n",
    "    value='rbf',\n",
    "    description='Kernel:'\n",
    ")\n",
    "\n",
    "# Create a slider for adjusting the regularization parameter C\n",
    "c_slider = FloatSlider(\n",
    "    min=0.1,\n",
    "    max=10,\n",
    "    step=0.1,\n",
    "    value=1.0,\n",
    "    description='C (Regularization):',\n",
    "    continuous_update=False  # Update only when user releases the slider\n",
    ")\n",
    "\n",
    "# Print a welcome message for the interactive session\n",
    "print(\"Interactive SVM Classifier for Breast Cancer Detection (With Feature Selection)\")\n",
    "\n",
    "# Launch the interactive widget interface\n",
    "interact(\n",
    "    train_and_evaluate_interactive_svm,  # Your custom evaluation function\n",
    "    kernel=kernel_dropdown,              # Select kernel type\n",
    "    C=c_slider                           # Adjust regularization parameter\n",
    ")"
   ]
  },
  {
   "cell_type": "markdown",
   "id": "24521bc8",
   "metadata": {},
   "source": [
    "### Compare Accuracy Before and After Scaling"
   ]
  },
  {
   "cell_type": "code",
   "execution_count": 29,
   "id": "9db67001",
   "metadata": {},
   "outputs": [
    {
     "data": {
      "application/vnd.plotly.v1+json": {
       "config": {
        "plotlyServerURL": "https://plot.ly"
       },
       "data": [
        {
         "line": {
          "color": "#19d3f3",
          "dash": "dash"
         },
         "marker": {
          "symbol": "circle"
         },
         "mode": "lines+markers",
         "name": "linear (No Scale)",
         "type": "scatter",
         "x": [
          0.1,
          1,
          10
         ],
         "y": [
          0.956140350877193,
          0.956140350877193,
          0.9649122807017544
         ]
        },
        {
         "line": {
          "color": "#19d3f3",
          "dash": "solid"
         },
         "marker": {
          "symbol": "diamond"
         },
         "mode": "lines+markers",
         "name": "linear (Scaled)",
         "type": "scatter",
         "x": [
          0.1,
          1,
          10
         ],
         "y": [
          0.9824561403508771,
          0.9736842105263158,
          0.9824561403508771
         ]
        },
        {
         "line": {
          "color": "#d62828",
          "dash": "dash"
         },
         "marker": {
          "symbol": "circle"
         },
         "mode": "lines+markers",
         "name": "poly (No Scale)",
         "type": "scatter",
         "x": [
          0.1,
          1,
          10
         ],
         "y": [
          0.9122807017543859,
          0.9210526315789473,
          0.9298245614035088
         ]
        },
        {
         "line": {
          "color": "#d62828",
          "dash": "solid"
         },
         "marker": {
          "symbol": "diamond"
         },
         "mode": "lines+markers",
         "name": "poly (Scaled)",
         "type": "scatter",
         "x": [
          0.1,
          1,
          10
         ],
         "y": [
          0.8508771929824561,
          0.9122807017543859,
          0.9736842105263158
         ]
        },
        {
         "line": {
          "color": "#f77f00",
          "dash": "dash"
         },
         "marker": {
          "symbol": "circle"
         },
         "mode": "lines+markers",
         "name": "rbf (No Scale)",
         "type": "scatter",
         "x": [
          0.1,
          1,
          10
         ],
         "y": [
          0.9122807017543859,
          0.9298245614035088,
          0.9298245614035088
         ]
        },
        {
         "line": {
          "color": "#f77f00",
          "dash": "solid"
         },
         "marker": {
          "symbol": "diamond"
         },
         "mode": "lines+markers",
         "name": "rbf (Scaled)",
         "type": "scatter",
         "x": [
          0.1,
          1,
          10
         ],
         "y": [
          0.9473684210526315,
          0.9824561403508771,
          0.9736842105263158
         ]
        }
       ],
       "layout": {
        "height": 500,
        "legend": {
         "title": {
          "text": "Kernel"
         }
        },
        "template": {
         "data": {
          "bar": [
           {
            "error_x": {
             "color": "#2a3f5f"
            },
            "error_y": {
             "color": "#2a3f5f"
            },
            "marker": {
             "line": {
              "color": "white",
              "width": 0.5
             },
             "pattern": {
              "fillmode": "overlay",
              "size": 10,
              "solidity": 0.2
             }
            },
            "type": "bar"
           }
          ],
          "barpolar": [
           {
            "marker": {
             "line": {
              "color": "white",
              "width": 0.5
             },
             "pattern": {
              "fillmode": "overlay",
              "size": 10,
              "solidity": 0.2
             }
            },
            "type": "barpolar"
           }
          ],
          "carpet": [
           {
            "aaxis": {
             "endlinecolor": "#2a3f5f",
             "gridcolor": "#C8D4E3",
             "linecolor": "#C8D4E3",
             "minorgridcolor": "#C8D4E3",
             "startlinecolor": "#2a3f5f"
            },
            "baxis": {
             "endlinecolor": "#2a3f5f",
             "gridcolor": "#C8D4E3",
             "linecolor": "#C8D4E3",
             "minorgridcolor": "#C8D4E3",
             "startlinecolor": "#2a3f5f"
            },
            "type": "carpet"
           }
          ],
          "choropleth": [
           {
            "colorbar": {
             "outlinewidth": 0,
             "ticks": ""
            },
            "type": "choropleth"
           }
          ],
          "contour": [
           {
            "colorbar": {
             "outlinewidth": 0,
             "ticks": ""
            },
            "colorscale": [
             [
              0,
              "#0d0887"
             ],
             [
              0.1111111111111111,
              "#46039f"
             ],
             [
              0.2222222222222222,
              "#7201a8"
             ],
             [
              0.3333333333333333,
              "#9c179e"
             ],
             [
              0.4444444444444444,
              "#bd3786"
             ],
             [
              0.5555555555555556,
              "#d8576b"
             ],
             [
              0.6666666666666666,
              "#ed7953"
             ],
             [
              0.7777777777777778,
              "#fb9f3a"
             ],
             [
              0.8888888888888888,
              "#fdca26"
             ],
             [
              1,
              "#f0f921"
             ]
            ],
            "type": "contour"
           }
          ],
          "contourcarpet": [
           {
            "colorbar": {
             "outlinewidth": 0,
             "ticks": ""
            },
            "type": "contourcarpet"
           }
          ],
          "heatmap": [
           {
            "colorbar": {
             "outlinewidth": 0,
             "ticks": ""
            },
            "colorscale": [
             [
              0,
              "#0d0887"
             ],
             [
              0.1111111111111111,
              "#46039f"
             ],
             [
              0.2222222222222222,
              "#7201a8"
             ],
             [
              0.3333333333333333,
              "#9c179e"
             ],
             [
              0.4444444444444444,
              "#bd3786"
             ],
             [
              0.5555555555555556,
              "#d8576b"
             ],
             [
              0.6666666666666666,
              "#ed7953"
             ],
             [
              0.7777777777777778,
              "#fb9f3a"
             ],
             [
              0.8888888888888888,
              "#fdca26"
             ],
             [
              1,
              "#f0f921"
             ]
            ],
            "type": "heatmap"
           }
          ],
          "heatmapgl": [
           {
            "colorbar": {
             "outlinewidth": 0,
             "ticks": ""
            },
            "colorscale": [
             [
              0,
              "#0d0887"
             ],
             [
              0.1111111111111111,
              "#46039f"
             ],
             [
              0.2222222222222222,
              "#7201a8"
             ],
             [
              0.3333333333333333,
              "#9c179e"
             ],
             [
              0.4444444444444444,
              "#bd3786"
             ],
             [
              0.5555555555555556,
              "#d8576b"
             ],
             [
              0.6666666666666666,
              "#ed7953"
             ],
             [
              0.7777777777777778,
              "#fb9f3a"
             ],
             [
              0.8888888888888888,
              "#fdca26"
             ],
             [
              1,
              "#f0f921"
             ]
            ],
            "type": "heatmapgl"
           }
          ],
          "histogram": [
           {
            "marker": {
             "pattern": {
              "fillmode": "overlay",
              "size": 10,
              "solidity": 0.2
             }
            },
            "type": "histogram"
           }
          ],
          "histogram2d": [
           {
            "colorbar": {
             "outlinewidth": 0,
             "ticks": ""
            },
            "colorscale": [
             [
              0,
              "#0d0887"
             ],
             [
              0.1111111111111111,
              "#46039f"
             ],
             [
              0.2222222222222222,
              "#7201a8"
             ],
             [
              0.3333333333333333,
              "#9c179e"
             ],
             [
              0.4444444444444444,
              "#bd3786"
             ],
             [
              0.5555555555555556,
              "#d8576b"
             ],
             [
              0.6666666666666666,
              "#ed7953"
             ],
             [
              0.7777777777777778,
              "#fb9f3a"
             ],
             [
              0.8888888888888888,
              "#fdca26"
             ],
             [
              1,
              "#f0f921"
             ]
            ],
            "type": "histogram2d"
           }
          ],
          "histogram2dcontour": [
           {
            "colorbar": {
             "outlinewidth": 0,
             "ticks": ""
            },
            "colorscale": [
             [
              0,
              "#0d0887"
             ],
             [
              0.1111111111111111,
              "#46039f"
             ],
             [
              0.2222222222222222,
              "#7201a8"
             ],
             [
              0.3333333333333333,
              "#9c179e"
             ],
             [
              0.4444444444444444,
              "#bd3786"
             ],
             [
              0.5555555555555556,
              "#d8576b"
             ],
             [
              0.6666666666666666,
              "#ed7953"
             ],
             [
              0.7777777777777778,
              "#fb9f3a"
             ],
             [
              0.8888888888888888,
              "#fdca26"
             ],
             [
              1,
              "#f0f921"
             ]
            ],
            "type": "histogram2dcontour"
           }
          ],
          "mesh3d": [
           {
            "colorbar": {
             "outlinewidth": 0,
             "ticks": ""
            },
            "type": "mesh3d"
           }
          ],
          "parcoords": [
           {
            "line": {
             "colorbar": {
              "outlinewidth": 0,
              "ticks": ""
             }
            },
            "type": "parcoords"
           }
          ],
          "pie": [
           {
            "automargin": true,
            "type": "pie"
           }
          ],
          "scatter": [
           {
            "fillpattern": {
             "fillmode": "overlay",
             "size": 10,
             "solidity": 0.2
            },
            "type": "scatter"
           }
          ],
          "scatter3d": [
           {
            "line": {
             "colorbar": {
              "outlinewidth": 0,
              "ticks": ""
             }
            },
            "marker": {
             "colorbar": {
              "outlinewidth": 0,
              "ticks": ""
             }
            },
            "type": "scatter3d"
           }
          ],
          "scattercarpet": [
           {
            "marker": {
             "colorbar": {
              "outlinewidth": 0,
              "ticks": ""
             }
            },
            "type": "scattercarpet"
           }
          ],
          "scattergeo": [
           {
            "marker": {
             "colorbar": {
              "outlinewidth": 0,
              "ticks": ""
             }
            },
            "type": "scattergeo"
           }
          ],
          "scattergl": [
           {
            "marker": {
             "colorbar": {
              "outlinewidth": 0,
              "ticks": ""
             }
            },
            "type": "scattergl"
           }
          ],
          "scattermapbox": [
           {
            "marker": {
             "colorbar": {
              "outlinewidth": 0,
              "ticks": ""
             }
            },
            "type": "scattermapbox"
           }
          ],
          "scatterpolar": [
           {
            "marker": {
             "colorbar": {
              "outlinewidth": 0,
              "ticks": ""
             }
            },
            "type": "scatterpolar"
           }
          ],
          "scatterpolargl": [
           {
            "marker": {
             "colorbar": {
              "outlinewidth": 0,
              "ticks": ""
             }
            },
            "type": "scatterpolargl"
           }
          ],
          "scatterternary": [
           {
            "marker": {
             "colorbar": {
              "outlinewidth": 0,
              "ticks": ""
             }
            },
            "type": "scatterternary"
           }
          ],
          "surface": [
           {
            "colorbar": {
             "outlinewidth": 0,
             "ticks": ""
            },
            "colorscale": [
             [
              0,
              "#0d0887"
             ],
             [
              0.1111111111111111,
              "#46039f"
             ],
             [
              0.2222222222222222,
              "#7201a8"
             ],
             [
              0.3333333333333333,
              "#9c179e"
             ],
             [
              0.4444444444444444,
              "#bd3786"
             ],
             [
              0.5555555555555556,
              "#d8576b"
             ],
             [
              0.6666666666666666,
              "#ed7953"
             ],
             [
              0.7777777777777778,
              "#fb9f3a"
             ],
             [
              0.8888888888888888,
              "#fdca26"
             ],
             [
              1,
              "#f0f921"
             ]
            ],
            "type": "surface"
           }
          ],
          "table": [
           {
            "cells": {
             "fill": {
              "color": "#EBF0F8"
             },
             "line": {
              "color": "white"
             }
            },
            "header": {
             "fill": {
              "color": "#C8D4E3"
             },
             "line": {
              "color": "white"
             }
            },
            "type": "table"
           }
          ]
         },
         "layout": {
          "annotationdefaults": {
           "arrowcolor": "#2a3f5f",
           "arrowhead": 0,
           "arrowwidth": 1
          },
          "autotypenumbers": "strict",
          "coloraxis": {
           "colorbar": {
            "outlinewidth": 0,
            "ticks": ""
           }
          },
          "colorscale": {
           "diverging": [
            [
             0,
             "#8e0152"
            ],
            [
             0.1,
             "#c51b7d"
            ],
            [
             0.2,
             "#de77ae"
            ],
            [
             0.3,
             "#f1b6da"
            ],
            [
             0.4,
             "#fde0ef"
            ],
            [
             0.5,
             "#f7f7f7"
            ],
            [
             0.6,
             "#e6f5d0"
            ],
            [
             0.7,
             "#b8e186"
            ],
            [
             0.8,
             "#7fbc41"
            ],
            [
             0.9,
             "#4d9221"
            ],
            [
             1,
             "#276419"
            ]
           ],
           "sequential": [
            [
             0,
             "#0d0887"
            ],
            [
             0.1111111111111111,
             "#46039f"
            ],
            [
             0.2222222222222222,
             "#7201a8"
            ],
            [
             0.3333333333333333,
             "#9c179e"
            ],
            [
             0.4444444444444444,
             "#bd3786"
            ],
            [
             0.5555555555555556,
             "#d8576b"
            ],
            [
             0.6666666666666666,
             "#ed7953"
            ],
            [
             0.7777777777777778,
             "#fb9f3a"
            ],
            [
             0.8888888888888888,
             "#fdca26"
            ],
            [
             1,
             "#f0f921"
            ]
           ],
           "sequentialminus": [
            [
             0,
             "#0d0887"
            ],
            [
             0.1111111111111111,
             "#46039f"
            ],
            [
             0.2222222222222222,
             "#7201a8"
            ],
            [
             0.3333333333333333,
             "#9c179e"
            ],
            [
             0.4444444444444444,
             "#bd3786"
            ],
            [
             0.5555555555555556,
             "#d8576b"
            ],
            [
             0.6666666666666666,
             "#ed7953"
            ],
            [
             0.7777777777777778,
             "#fb9f3a"
            ],
            [
             0.8888888888888888,
             "#fdca26"
            ],
            [
             1,
             "#f0f921"
            ]
           ]
          },
          "colorway": [
           "#636efa",
           "#EF553B",
           "#00cc96",
           "#ab63fa",
           "#FFA15A",
           "#19d3f3",
           "#FF6692",
           "#B6E880",
           "#FF97FF",
           "#FECB52"
          ],
          "font": {
           "color": "#2a3f5f"
          },
          "geo": {
           "bgcolor": "white",
           "lakecolor": "white",
           "landcolor": "white",
           "showlakes": true,
           "showland": true,
           "subunitcolor": "#C8D4E3"
          },
          "hoverlabel": {
           "align": "left"
          },
          "hovermode": "closest",
          "mapbox": {
           "style": "light"
          },
          "paper_bgcolor": "white",
          "plot_bgcolor": "white",
          "polar": {
           "angularaxis": {
            "gridcolor": "#EBF0F8",
            "linecolor": "#EBF0F8",
            "ticks": ""
           },
           "bgcolor": "white",
           "radialaxis": {
            "gridcolor": "#EBF0F8",
            "linecolor": "#EBF0F8",
            "ticks": ""
           }
          },
          "scene": {
           "xaxis": {
            "backgroundcolor": "white",
            "gridcolor": "#DFE8F3",
            "gridwidth": 2,
            "linecolor": "#EBF0F8",
            "showbackground": true,
            "ticks": "",
            "zerolinecolor": "#EBF0F8"
           },
           "yaxis": {
            "backgroundcolor": "white",
            "gridcolor": "#DFE8F3",
            "gridwidth": 2,
            "linecolor": "#EBF0F8",
            "showbackground": true,
            "ticks": "",
            "zerolinecolor": "#EBF0F8"
           },
           "zaxis": {
            "backgroundcolor": "white",
            "gridcolor": "#DFE8F3",
            "gridwidth": 2,
            "linecolor": "#EBF0F8",
            "showbackground": true,
            "ticks": "",
            "zerolinecolor": "#EBF0F8"
           }
          },
          "shapedefaults": {
           "line": {
            "color": "#2a3f5f"
           }
          },
          "ternary": {
           "aaxis": {
            "gridcolor": "#DFE8F3",
            "linecolor": "#A2B1C6",
            "ticks": ""
           },
           "baxis": {
            "gridcolor": "#DFE8F3",
            "linecolor": "#A2B1C6",
            "ticks": ""
           },
           "bgcolor": "white",
           "caxis": {
            "gridcolor": "#DFE8F3",
            "linecolor": "#A2B1C6",
            "ticks": ""
           }
          },
          "title": {
           "x": 0.05
          },
          "xaxis": {
           "automargin": true,
           "gridcolor": "#EBF0F8",
           "linecolor": "#EBF0F8",
           "ticks": "",
           "title": {
            "standoff": 15
           },
           "zerolinecolor": "#EBF0F8",
           "zerolinewidth": 2
          },
          "yaxis": {
           "automargin": true,
           "gridcolor": "#EBF0F8",
           "linecolor": "#EBF0F8",
           "ticks": "",
           "title": {
            "standoff": 15
           },
           "zerolinecolor": "#EBF0F8",
           "zerolinewidth": 2
          }
         }
        },
        "title": {
         "text": "SVM Accuracy Comparison for only important features - Scaled vs No Scale"
        },
        "width": 850,
        "xaxis": {
         "title": {
          "text": "C Value"
         }
        },
        "yaxis": {
         "title": {
          "text": "Accuracy"
         }
        }
       }
      }
     },
     "metadata": {},
     "output_type": "display_data"
    }
   ],
   "source": [
    "# Define hyperparameters to experiment with\n",
    "C_values = [0.1, 1, 10]\n",
    "kernels = ['linear', 'poly', 'rbf']\n",
    "\n",
    "# Initialize DataFrames to store results\n",
    "df_scaled = pd.DataFrame(columns=kernels, index=C_values)\n",
    "df_no_scale = pd.DataFrame(columns=kernels, index=C_values)\n",
    "\n",
    "# Train and evaluate models for each combination of kernel and C value\n",
    "for C in C_values:\n",
    "    for kernel in kernels:\n",
    "        # Raw Features - No Scaling\n",
    "        model_raw = SVC(C=C, kernel=kernel, random_state=42)\n",
    "        model_raw.fit(X_train, y_train)\n",
    "        acc_raw = model_raw.score(X_test, y_test)\n",
    "        df_no_scale.loc[C, kernel] = acc_raw\n",
    "\n",
    "        # Scaled Features\n",
    "        model_scaled = SVC(C=C, kernel=kernel, random_state=42)\n",
    "        model_scaled.fit(X_train_scaled, y_train)\n",
    "        acc_scaled = model_scaled.score(X_test_scaled, y_test)\n",
    "        df_scaled.loc[C, kernel] = acc_scaled\n",
    "\n",
    "# Set colors for different kernels in visualization\n",
    "kernel_colors = {\n",
    "    'linear': '#19d3f3',\n",
    "    'poly': '#d62828',\n",
    "    'rbf': '#f77f00'\n",
    "}\n",
    "\n",
    "# Create a Plotly figure to compare accuracy across kernels and scaling\n",
    "fig = go.Figure()\n",
    "\n",
    "# Add traces for each kernel (scaled vs no scale)\n",
    "for kernel in kernels:\n",
    "    color = kernel_colors[kernel]\n",
    "\n",
    "    # Accuracy without scaling\n",
    "    fig.add_trace(go.Scatter(\n",
    "        x=C_values,\n",
    "        y=df_no_scale[kernel],\n",
    "        mode='lines+markers',\n",
    "        name=f'{kernel} (No Scale)',\n",
    "        line=dict(color=color, dash='dash'),\n",
    "        marker=dict(symbol='circle')\n",
    "    ))\n",
    "\n",
    "    # Accuracy with scaling\n",
    "    fig.add_trace(go.Scatter(\n",
    "        x=C_values,\n",
    "        y=df_scaled[kernel],\n",
    "        mode='lines+markers',\n",
    "        name=f'{kernel} (Scaled)',\n",
    "        line=dict(color=color, dash='solid'),\n",
    "        marker=dict(symbol='diamond')\n",
    "    ))\n",
    "\n",
    "# Update layout for better readability\n",
    "fig.update_layout(\n",
    "    title='SVM Accuracy Comparison for only important features - Scaled vs No Scale',\n",
    "    xaxis_title='C Value',\n",
    "    yaxis_title='Accuracy',\n",
    "    legend_title='Kernel',\n",
    "    template='plotly_white',\n",
    "    width=850,\n",
    "    height=500\n",
    ")\n",
    "fig.show()"
   ]
  },
  {
   "cell_type": "markdown",
   "id": "1c6b9161-d4f2-4729-971e-c3c57e7a7265",
   "metadata": {},
   "source": [
    "<h1><b>Neural Network</b></h1>\n"
   ]
  },
  {
   "cell_type": "code",
   "execution_count": 20,
   "id": "e30d93f8-662f-4e8c-a4fe-639b7c6bf7b4",
   "metadata": {},
   "outputs": [],
   "source": [
    "import numpy as np\n",
    "import pandas as pd\n",
    "from sklearn.datasets import load_breast_cancer\n",
    "from sklearn.model_selection import train_test_split, cross_val_score\n",
    "from sklearn.preprocessing import StandardScaler\n",
    "from sklearn.metrics import accuracy_score, classification_report\n",
    "from sklearn.linear_model import LogisticRegression\n",
    "from sklearn.ensemble import RandomForestClassifier\n",
    "from sklearn.svm import SVC\n",
    "from collections import OrderedDict\n",
    "from sklearn.neural_network import MLPClassifier\n",
    "from sklearn.model_selection import GridSearchCV\n",
    "import warnings\n",
    "\n",
    "warnings.filterwarnings(\"ignore\", category=UserWarning)"
   ]
  },
  {
   "cell_type": "code",
   "execution_count": 21,
   "id": "3710494c-ebf4-4207-b367-97042bccd709",
   "metadata": {},
   "outputs": [
    {
     "data": {
      "text/plain": [
       "0     0\n",
       "1     0\n",
       "2     0\n",
       "3     0\n",
       "4     0\n",
       "5     0\n",
       "6     0\n",
       "7     0\n",
       "8     0\n",
       "9     0\n",
       "10    0\n",
       "11    0\n",
       "12    0\n",
       "13    0\n",
       "14    0\n",
       "15    0\n",
       "16    0\n",
       "17    0\n",
       "18    0\n",
       "19    1\n",
       "20    1\n",
       "21    1\n",
       "22    0\n",
       "23    0\n",
       "24    0\n",
       "25    0\n",
       "26    0\n",
       "27    0\n",
       "28    0\n",
       "29    0\n",
       "Name: target, dtype: int64"
      ]
     },
     "execution_count": 21,
     "metadata": {},
     "output_type": "execute_result"
    }
   ],
   "source": [
    "Breast_Cancer_df['target'].head(30)"
   ]
  },
  {
   "cell_type": "code",
   "execution_count": 22,
   "id": "114aec1b-ad2d-4576-8b0a-2ee326290417",
   "metadata": {},
   "outputs": [],
   "source": [
    "X = Breast_Cancer_df.drop(\"target\", axis=1)\n",
    "y = Breast_Cancer_df[\"target\"]\n"
   ]
  },
  {
   "cell_type": "code",
   "execution_count": 23,
   "id": "103933c9",
   "metadata": {},
   "outputs": [
    {
     "name": "stdout",
     "output_type": "stream",
     "text": [
      "\n",
      "X shape: (569, 30)\n",
      "y shape: (569,)\n"
     ]
    }
   ],
   "source": [
    "\n",
    "X_train, X_test, y_train, y_test = train_test_split(X, y, test_size=0.2, random_state=42, stratify=y)\n",
    "\n",
    "scaler = StandardScaler()\n",
    "X_train_scaled = scaler.fit_transform(X_train)\n",
    "X_test_scaled = scaler.transform(X_test)\n",
    "X_scaled = scaler.transform(X)  # for cross-validation on full dataset\n",
    "print(f\"\\nX shape: {X_scaled.shape}\")\n",
    "print(f\"y shape: {y.shape}\")\n"
   ]
  },
  {
   "cell_type": "code",
   "execution_count": 24,
   "id": "90201424-3050-49df-83e6-eeae8bbc01cb",
   "metadata": {},
   "outputs": [],
   "source": [
    "param_grid = {\n",
    "    'alpha': [0.0001, 0.001, 0.01],  \n",
    "    'max_iter': [200, 300, 500],\n",
    "    'learning_rate_init': [0.001, 0.01, 0.1],  \n",
    "}\n"
   ]
  },
  {
   "cell_type": "code",
   "execution_count": 25,
   "id": "dd74a846-b985-4520-9576-20db9104567b",
   "metadata": {},
   "outputs": [
    {
     "name": "stdout",
     "output_type": "stream",
     "text": [
      "Fitting 5 folds for each of 27 candidates, totalling 135 fits\n",
      "\n",
      "Best Parameters: {'alpha': 0.01, 'learning_rate_init': 0.001, 'max_iter': 300}\n"
     ]
    }
   ],
   "source": [
    "grid_search = GridSearchCV(\n",
    "    MLPClassifier(random_state=42), \n",
    "    param_grid, \n",
    "    cv=5, \n",
    "    n_jobs=-1, \n",
    "    verbose=2, \n",
    "    scoring='accuracy'\n",
    ")\n",
    "\n",
    "grid_search.fit(X_train, y_train)\n",
    "\n",
    "print(f\"\\nBest Parameters: {grid_search.best_params_}\")\n",
    "best_alpha = grid_search.best_params_['alpha']\n",
    "best_learning_rate = grid_search.best_params_['learning_rate_init']\n",
    "best_max_iter = grid_search.best_params_['max_iter']"
   ]
  },
  {
   "cell_type": "code",
   "execution_count": 26,
   "id": "2d937892-dd93-4ac8-987c-763bb9506015",
   "metadata": {},
   "outputs": [],
   "source": [
    "models = {\n",
    "    \"Simple (10 neurons, Sigmoid)\": MLPClassifier(\n",
    "        hidden_layer_sizes=(10,), \n",
    "        activation='logistic', \n",
    "        max_iter=best_max_iter, \n",
    "        random_state=42, \n",
    "        learning_rate_init=best_learning_rate,\n",
    "        alpha=best_alpha\n",
    "    ),\n",
    "    \"Deep (64-32-16 neurons, Sigmoid)\": MLPClassifier(\n",
    "        hidden_layer_sizes=(64, 32, 16), \n",
    "        activation='logistic', \n",
    "        max_iter=best_max_iter, \n",
    "        random_state=42, \n",
    "        learning_rate_init=best_learning_rate,\n",
    "        alpha=best_alpha\n",
    "    ),\n",
    "    \"Simple (10 neurons, ReLU)\": MLPClassifier(\n",
    "        hidden_layer_sizes=(10,), \n",
    "        activation='relu', \n",
    "        max_iter=best_max_iter, \n",
    "        random_state=42, \n",
    "        learning_rate_init=best_learning_rate,\n",
    "        alpha=best_alpha\n",
    "    ),\n",
    "    \"Deep (64-32-16 neurons, ReLU)\": MLPClassifier(\n",
    "        hidden_layer_sizes=(64, 32, 16), \n",
    "        activation='relu', \n",
    "        max_iter=best_max_iter, \n",
    "        random_state=42, \n",
    "        learning_rate_init=best_learning_rate,\n",
    "        alpha=best_alpha\n",
    "    ),\n",
    "}\n"
   ]
  },
  {
   "cell_type": "code",
   "execution_count": 27,
   "id": "36d56320-b5e5-4676-bacc-5a8bde812a85",
   "metadata": {},
   "outputs": [
    {
     "name": "stdout",
     "output_type": "stream",
     "text": [
      "\n",
      "Training model: Simple (10 neurons, Sigmoid)\n",
      "Accuracy: 0.9474\n",
      "Classification Report:\n",
      "              precision    recall  f1-score   support\n",
      "\n",
      "           0       0.95      0.90      0.93        42\n",
      "           1       0.95      0.97      0.96        72\n",
      "\n",
      "    accuracy                           0.95       114\n",
      "   macro avg       0.95      0.94      0.94       114\n",
      "weighted avg       0.95      0.95      0.95       114\n",
      "\n",
      "Cross-validation scores (5-fold): [0.98245614 0.98245614 0.99122807 0.97368421 0.97345133]\n",
      "Mean cross-validation accuracy: 0.9807\n",
      "...............................................................................\n",
      "\n",
      "Training model: Deep (64-32-16 neurons, Sigmoid)\n",
      "Accuracy: 0.9211\n",
      "Classification Report:\n",
      "              precision    recall  f1-score   support\n",
      "\n",
      "           0       0.88      0.90      0.89        42\n",
      "           1       0.94      0.93      0.94        72\n",
      "\n",
      "    accuracy                           0.92       114\n",
      "   macro avg       0.91      0.92      0.92       114\n",
      "weighted avg       0.92      0.92      0.92       114\n",
      "\n",
      "Cross-validation scores (5-fold): [0.96491228 0.97368421 0.97368421 0.96491228 0.98230088]\n",
      "Mean cross-validation accuracy: 0.9719\n",
      "...............................................................................\n",
      "\n",
      "Training model: Simple (10 neurons, ReLU)\n",
      "Accuracy: 0.8860\n",
      "Classification Report:\n",
      "              precision    recall  f1-score   support\n",
      "\n",
      "           0       0.82      0.88      0.85        42\n",
      "           1       0.93      0.89      0.91        72\n",
      "\n",
      "    accuracy                           0.89       114\n",
      "   macro avg       0.87      0.88      0.88       114\n",
      "weighted avg       0.89      0.89      0.89       114\n",
      "\n",
      "Cross-validation scores (5-fold): [0.99122807 0.96491228 0.99122807 0.97368421 0.98230088]\n",
      "Mean cross-validation accuracy: 0.9807\n",
      "...............................................................................\n",
      "\n",
      "Training model: Deep (64-32-16 neurons, ReLU)\n",
      "Accuracy: 0.9298\n",
      "Classification Report:\n",
      "              precision    recall  f1-score   support\n",
      "\n",
      "           0       0.90      0.90      0.90        42\n",
      "           1       0.94      0.94      0.94        72\n",
      "\n",
      "    accuracy                           0.93       114\n",
      "   macro avg       0.92      0.92      0.92       114\n",
      "weighted avg       0.93      0.93      0.93       114\n",
      "\n",
      "Cross-validation scores (5-fold): [0.99122807 0.96491228 0.96491228 0.96491228 0.99115044]\n",
      "Mean cross-validation accuracy: 0.9754\n",
      "...............................................................................\n"
     ]
    }
   ],
   "source": [
    "results = {}\n",
    "# Train and evaluate each model\n",
    "for name, model in models.items():\n",
    "    print(f\"\\nTraining model: {name}\")\n",
    "    \n",
    "    model.fit(X_train, y_train)\n",
    "    \n",
    "    y_pred = model.predict(X_test)\n",
    "    \n",
    "    acc = accuracy_score(y_test, y_pred)\n",
    "    results[name] = acc\n",
    "    \n",
    "    print(f\"Accuracy: {acc:.4f}\")\n",
    "    print(\"Classification Report:\")\n",
    "    print(classification_report(y_test, y_pred))\n",
    "    \n",
    "    cv_scores = cross_val_score(model, X_scaled, y, cv=5, scoring='accuracy')\n",
    "    print(f\"Cross-validation scores (5-fold): {cv_scores}\")\n",
    "    print(f\"Mean cross-validation accuracy: {cv_scores.mean():.4f}\")\n",
    "    \n",
    "    print(\"...............................................................................\")"
   ]
  },
  {
   "cell_type": "code",
   "execution_count": 28,
   "id": "6a28498d-7bb5-4f4b-a3c5-ec6834b3616a",
   "metadata": {},
   "outputs": [
    {
     "name": "stderr",
     "output_type": "stream",
     "text": [
      "C:\\Users\\hp\\AppData\\Local\\Temp\\ipykernel_13668\\1467822590.py:9: FutureWarning:\n",
      "\n",
      "\n",
      "\n",
      "Passing `palette` without assigning `hue` is deprecated and will be removed in v0.14.0. Assign the `x` variable to `hue` and set `legend=False` for the same effect.\n",
      "\n",
      "\n"
     ]
    },
    {
     "data": {
      "image/png": "[encoded data removed]",
      "text/plain": [
       "<Figure size 1200x600 with 1 Axes>"
      ]
     },
     "metadata": {},
     "output_type": "display_data"
    }
   ],
   "source": [
    "# Extract accuracy values from the results dictionary\n",
    "accuracy_values = results  # The results dictionary already contains accuracy values\n",
    "\n",
    "# Convert the accuracy values into a pandas DataFrame for easier plotting\n",
    "results_df = pd.DataFrame.from_dict(accuracy_values, orient='index', columns=['accuracy'])\n",
    "\n",
    "# Plot the accuracy values\n",
    "plt.figure(figsize=(12, 6))\n",
    "sns.barplot(x=results_df.index, y=results_df['accuracy'], palette='viridis')\n",
    "plt.ylabel(\"Accuracy\")\n",
    "plt.title(\"Model Comparison - Neural Network Classifiers\")\n",
    "plt.xticks(rotation=45)\n",
    "plt.ylim(0.85, 0.97)  \n",
    "plt.grid(True, axis='y')\n",
    "plt.tight_layout()\n",
    "plt.show()\n"
   ]
  }
 ],
 "metadata": {
  "kernelspec": {
   "display_name": "Python 3",
   "language": "python",
   "name": "python3"
  },
  "language_info": {
   "codemirror_mode": {
    "name": "ipython",
    "version": 3
   },
   "file_extension": ".py",
   "mimetype": "text/x-python",
   "name": "python",
   "nbconvert_exporter": "python",
   "pygments_lexer": "ipython3",
   "version": "3.12.2"
  }
 },
 "nbformat": 4,
 "nbformat_minor": 5
}
